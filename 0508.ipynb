{
  "nbformat": 4,
  "nbformat_minor": 0,
  "metadata": {
    "colab": {
      "provenance": [],
      "authorship_tag": "ABX9TyMj1xJkYEIlJYW36McNQLud",
      "include_colab_link": true
    },
    "kernelspec": {
      "name": "python3",
      "display_name": "Python 3"
    },
    "language_info": {
      "name": "python"
    }
  },
  "cells": [
    {
      "cell_type": "markdown",
      "metadata": {
        "id": "view-in-github",
        "colab_type": "text"
      },
      "source": [
        "<a href=\"https://colab.research.google.com/github/Tkuuchen/0306/blob/main/0508.ipynb\" target=\"_parent\"><img src=\"https://colab.research.google.com/assets/colab-badge.svg\" alt=\"Open In Colab\"/></a>"
      ]
    },
    {
      "cell_type": "code",
      "source": [
        "from re import M\n",
        "score = int(input(\"請輸入成績\"))\n",
        "if(score >= 60  and score<= 90):\n",
        "  if(score >= 90):\n",
        "   print(\"{} is A \". format(score))\n",
        "  elif(score >= 89 or  score<= 80 ):\n",
        "   print(\"{} is B\". format(score))\n",
        "  elif(score >= 79 or score <= 70):\n",
        "    print(\"{} is C\".format(score))\n",
        "  elif(score >= 69 or score <= 0):\n",
        "    print(\"{} is D\".format(score))\n",
        "  else:\n",
        "    print(\"{} is E\". format(score))\n",
        "\n",
        "else:\n",
        "   print(\"Input Error\")\n"
      ],
      "metadata": {
        "colab": {
          "base_uri": "https://localhost:8080/"
        },
        "id": "2ZyvljOGF130",
        "outputId": "ccce2345-4a62-47d4-bb5d-d736b592a791"
      },
      "execution_count": null,
      "outputs": [
        {
          "output_type": "stream",
          "name": "stdout",
          "text": [
            "請輸入成績90\n",
            "90 is A \n"
          ]
        }
      ]
    },
    {
      "cell_type": "code",
      "execution_count": null,
      "metadata": {
        "id": "FommHw1Rf5sJ",
        "colab": {
          "base_uri": "https://localhost:8080/"
        },
        "outputId": "63f518ae-db69-4f23-e7c8-b5db8ea7b7b0"
      },
      "outputs": [
        {
          "output_type": "stream",
          "name": "stdout",
          "text": [
            "請輸入溫度26\n",
            "Input Error\n"
          ]
        }
      ],
      "source": [
        "from re import M\n",
        "temperature = int(input(\"請輸入溫度\"\n",
        "))\n",
        "if(temperature >= 34 and temperature<= 37.5):\n",
        "  if(temperature >= 37.5):\n",
        "   print(\"{} 體溫過高\". format(temperature))\n",
        "  elif(temperature >= 37.4 or  temperature<=37 ):\n",
        "   print(\"{} 體溫正常\". format(temperature))\n",
        "  elif(temperature >= 34 or temperature <= 36.7):\n",
        "    print(\"{} 體溫正常\".format(temperature))\n",
        "  else:\n",
        "    print(\"{} 體溫異常，請重新測量\". format(temperature))\n",
        "\n",
        "else:\n",
        "   print(\"Input Error\")\n"
      ]
    },
    {
      "cell_type": "code",
      "source": [
        "from re import M\n",
        "month = int(input())\n",
        "if(month >= 1 and month<= 12):\n",
        "  if(month==3 or month==4 or month==5):\n",
        "   print(\"{} is spring\". format(month))\n",
        "  elif(month==6 or month==7 or month==8):\n",
        "   print(\"{} is summer\". format(month))\n",
        "  elif(month==9 or month==10 or month==11):\n",
        "    print(\"{} is autumn\".format(month))\n",
        "  else:\n",
        "    print(\"{} is winter\". format(month))\n",
        "\n",
        "else:\n",
        "   print(\"Input Error\")\n"
      ],
      "metadata": {
        "colab": {
          "base_uri": "https://localhost:8080/"
        },
        "id": "Sr_hUxgh6t8E",
        "outputId": "ecf8af5d-cd5c-4773-dc74-e9fb93d641b0"
      },
      "execution_count": null,
      "outputs": [
        {
          "output_type": "stream",
          "name": "stdout",
          "text": [
            "1\n",
            "1 is winter\n"
          ]
        }
      ]
    }
  ]
}