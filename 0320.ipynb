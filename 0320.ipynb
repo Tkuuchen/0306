{
  "nbformat": 4,
  "nbformat_minor": 0,
  "metadata": {
    "colab": {
      "provenance": [],
      "authorship_tag": "ABX9TyNVScbJ/KTRWmPXrH5BxdSI",
      "include_colab_link": true
    },
    "kernelspec": {
      "name": "python3",
      "display_name": "Python 3"
    },
    "language_info": {
      "name": "python"
    }
  },
  "cells": [
    {
      "cell_type": "markdown",
      "metadata": {
        "id": "view-in-github",
        "colab_type": "text"
      },
      "source": [
        "<a href=\"https://colab.research.google.com/github/Tkuuchen/0306/blob/main/0320.ipynb\" target=\"_parent\"><img src=\"https://colab.research.google.com/assets/colab-badge.svg\" alt=\"Open In Colab\"/></a>"
      ]
    },
    {
      "cell_type": "code",
      "execution_count": null,
      "metadata": {
        "id": "86qirYimZ6ye",
        "colab": {
          "base_uri": "https://localhost:8080/"
        },
        "outputId": "0834f30b-baa1-47ed-c645-a4826e1657a1"
      },
      "outputs": [
        {
          "output_type": "stream",
          "name": "stdout",
          "text": [
            "請輸入國文成績（整數）：50\n",
            "請輸入英文成績（整數）：60\n",
            "請輸入數學成績（整數）：70\n",
            "您的總分為：180\n"
          ]
        }
      ],
      "source": [
        "chi = int(input(\"請輸入國文成績（整數）：\"))\n",
        "eng = int(input(\"請輸入英文成績（整數）：\"))\n",
        "math = int(input(\"請輸入數學成績（整數）：\"))\n",
        "total = chi + eng + math\n",
        "print(\"您的總分為：%3d\" % total)"
      ]
    },
    {
      "cell_type": "code",
      "source": [
        "int  (input('請輸入梯形上底長度:'))\n",
        "int  (input('請輸入梯形下底長度:'))\n",
        "int  (input('請輸入梯形的高度:'))\n",
        "面積 = (上底 +下底) * 高 / 2"
      ],
      "metadata": {
        "colab": {
          "base_uri": "https://localhost:8080/",
          "height": 238
        },
        "id": "b6FNjv9KJWWs",
        "outputId": "9067b667-9e2b-4add-edfc-469de68c3351"
      },
      "execution_count": 8,
      "outputs": [
        {
          "name": "stdout",
          "output_type": "stream",
          "text": [
            "請輸入梯形上底長度:3\n",
            "請輸入梯形下底長度:4\n",
            "請輸入梯形的高度:3\n"
          ]
        },
        {
          "output_type": "error",
          "ename": "NameError",
          "evalue": "name '上底' is not defined",
          "traceback": [
            "\u001b[0;31m---------------------------------------------------------------------------\u001b[0m",
            "\u001b[0;31mNameError\u001b[0m                                 Traceback (most recent call last)",
            "\u001b[0;32m<ipython-input-8-d8cebcc49f1c>\u001b[0m in \u001b[0;36m<cell line: 4>\u001b[0;34m()\u001b[0m\n\u001b[1;32m      2\u001b[0m \u001b[0mint\u001b[0m  \u001b[0;34m(\u001b[0m\u001b[0minput\u001b[0m\u001b[0;34m(\u001b[0m\u001b[0;34m'請輸入梯形下底長度:'\u001b[0m\u001b[0;34m)\u001b[0m\u001b[0;34m)\u001b[0m\u001b[0;34m\u001b[0m\u001b[0;34m\u001b[0m\u001b[0m\n\u001b[1;32m      3\u001b[0m \u001b[0mint\u001b[0m  \u001b[0;34m(\u001b[0m\u001b[0minput\u001b[0m\u001b[0;34m(\u001b[0m\u001b[0;34m'請輸入梯形的高度:'\u001b[0m\u001b[0;34m)\u001b[0m\u001b[0;34m)\u001b[0m\u001b[0;34m\u001b[0m\u001b[0;34m\u001b[0m\u001b[0m\n\u001b[0;32m----> 4\u001b[0;31m \u001b[0m面積\u001b[0m \u001b[0;34m=\u001b[0m \u001b[0;34m(\u001b[0m\u001b[0m上底\u001b[0m \u001b[0;34m+\u001b[0m\u001b[0m下底\u001b[0m\u001b[0;34m)\u001b[0m \u001b[0;34m*\u001b[0m \u001b[0m高\u001b[0m \u001b[0;34m/\u001b[0m \u001b[0;36m2\u001b[0m\u001b[0;34m\u001b[0m\u001b[0;34m\u001b[0m\u001b[0m\n\u001b[0m",
            "\u001b[0;31mNameError\u001b[0m: name '上底' is not defined"
          ]
        }
      ]
    },
    {
      "cell_type": "code",
      "source": [
        "height_cm = float(input(\"請輸入您的身高（cm):\"))\n",
        "weight = float(input(\"請輸入您的體重（kg):\"))\n",
        "height_n = height_cm / 100\n",
        "bni = weight / (height_n ** 2)\n",
        "print(\"BMI為： %3.2f \" % bni)"
      ],
      "metadata": {
        "colab": {
          "base_uri": "https://localhost:8080/"
        },
        "id": "l5vLbNVwJy4f",
        "outputId": "c7a5efaa-fb1b-468c-9b66-a8d5e2879fef"
      },
      "execution_count": null,
      "outputs": [
        {
          "output_type": "stream",
          "name": "stdout",
          "text": [
            "請輸入您的身高（cm):180\n",
            "請輸入您的體重（kg):80\n",
            "BMI為： 24.69 \n"
          ]
        }
      ]
    }
  ]
}